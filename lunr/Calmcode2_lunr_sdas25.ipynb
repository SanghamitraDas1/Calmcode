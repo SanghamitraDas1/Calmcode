{
  "nbformat": 4,
  "nbformat_minor": 0,
  "metadata": {
    "colab": {
      "provenance": []
    },
    "kernelspec": {
      "name": "python3",
      "display_name": "Python 3"
    },
    "language_info": {
      "name": "python"
    }
  },
  "cells": [
    {
      "cell_type": "markdown",
      "source": [
        "### Importing the dataset"
      ],
      "metadata": {
        "id": "mFcBuVC82bPG"
      }
    },
    {
      "cell_type": "code",
      "execution_count": 1,
      "metadata": {
        "colab": {
          "base_uri": "https://localhost:8080/"
        },
        "id": "CLVwGv6Z15D0",
        "outputId": "f8bd6b01-b417-43fb-bbd2-1c08aa03c19d"
      },
      "outputs": [
        {
          "output_type": "stream",
          "name": "stdout",
          "text": [
            "--2024-02-19 22:44:57--  https://calmcode.io/static/data/clinc.csv\n",
            "Resolving calmcode.io (calmcode.io)... 172.66.0.96, 162.159.140.98, 2a06:98c1:58::60, ...\n",
            "Connecting to calmcode.io (calmcode.io)|172.66.0.96|:443... connected.\n",
            "HTTP request sent, awaiting response... 200 OK\n",
            "Length: 1265609 (1.2M) [application/octet-stream]\n",
            "Saving to: ‘clinc.csv.2’\n",
            "\n",
            "clinc.csv.2         100%[===================>]   1.21M  --.-KB/s    in 0.02s   \n",
            "\n",
            "2024-02-19 22:44:58 (70.3 MB/s) - ‘clinc.csv.2’ saved [1265609/1265609]\n",
            "\n"
          ]
        }
      ],
      "source": [
        "!wget https://calmcode.io/static/data/clinc.csv"
      ]
    },
    {
      "cell_type": "code",
      "source": [
        "import pandas as pd\n",
        "df=pd.read_csv('clinc.csv').assign(idx=lambda d:d.index)\n",
        "df.head()"
      ],
      "metadata": {
        "colab": {
          "base_uri": "https://localhost:8080/",
          "height": 206
        },
        "id": "fYDyYwA42gjL",
        "outputId": "4acb59ed-1b59-47d6-83ec-fd95d2d34d0e"
      },
      "execution_count": 6,
      "outputs": [
        {
          "output_type": "execute_result",
          "data": {
            "text/plain": [
              "                                  text      label  idx\n",
              "0     how would you say fly in italian  translate    0\n",
              "1    what's the spanish word for pasta  translate    1\n",
              "2  how would they say butter in zambia  translate    2\n",
              "3       how do you say fast in spanish  translate    3\n",
              "4  what's the word for trees in norway  translate    4"
            ],
            "text/html": [
              "\n",
              "  <div id=\"df-6deef90f-124b-4315-82d7-638b87ab1986\" class=\"colab-df-container\">\n",
              "    <div>\n",
              "<style scoped>\n",
              "    .dataframe tbody tr th:only-of-type {\n",
              "        vertical-align: middle;\n",
              "    }\n",
              "\n",
              "    .dataframe tbody tr th {\n",
              "        vertical-align: top;\n",
              "    }\n",
              "\n",
              "    .dataframe thead th {\n",
              "        text-align: right;\n",
              "    }\n",
              "</style>\n",
              "<table border=\"1\" class=\"dataframe\">\n",
              "  <thead>\n",
              "    <tr style=\"text-align: right;\">\n",
              "      <th></th>\n",
              "      <th>text</th>\n",
              "      <th>label</th>\n",
              "      <th>idx</th>\n",
              "    </tr>\n",
              "  </thead>\n",
              "  <tbody>\n",
              "    <tr>\n",
              "      <th>0</th>\n",
              "      <td>how would you say fly in italian</td>\n",
              "      <td>translate</td>\n",
              "      <td>0</td>\n",
              "    </tr>\n",
              "    <tr>\n",
              "      <th>1</th>\n",
              "      <td>what's the spanish word for pasta</td>\n",
              "      <td>translate</td>\n",
              "      <td>1</td>\n",
              "    </tr>\n",
              "    <tr>\n",
              "      <th>2</th>\n",
              "      <td>how would they say butter in zambia</td>\n",
              "      <td>translate</td>\n",
              "      <td>2</td>\n",
              "    </tr>\n",
              "    <tr>\n",
              "      <th>3</th>\n",
              "      <td>how do you say fast in spanish</td>\n",
              "      <td>translate</td>\n",
              "      <td>3</td>\n",
              "    </tr>\n",
              "    <tr>\n",
              "      <th>4</th>\n",
              "      <td>what's the word for trees in norway</td>\n",
              "      <td>translate</td>\n",
              "      <td>4</td>\n",
              "    </tr>\n",
              "  </tbody>\n",
              "</table>\n",
              "</div>\n",
              "    <div class=\"colab-df-buttons\">\n",
              "\n",
              "  <div class=\"colab-df-container\">\n",
              "    <button class=\"colab-df-convert\" onclick=\"convertToInteractive('df-6deef90f-124b-4315-82d7-638b87ab1986')\"\n",
              "            title=\"Convert this dataframe to an interactive table.\"\n",
              "            style=\"display:none;\">\n",
              "\n",
              "  <svg xmlns=\"http://www.w3.org/2000/svg\" height=\"24px\" viewBox=\"0 -960 960 960\">\n",
              "    <path d=\"M120-120v-720h720v720H120Zm60-500h600v-160H180v160Zm220 220h160v-160H400v160Zm0 220h160v-160H400v160ZM180-400h160v-160H180v160Zm440 0h160v-160H620v160ZM180-180h160v-160H180v160Zm440 0h160v-160H620v160Z\"/>\n",
              "  </svg>\n",
              "    </button>\n",
              "\n",
              "  <style>\n",
              "    .colab-df-container {\n",
              "      display:flex;\n",
              "      gap: 12px;\n",
              "    }\n",
              "\n",
              "    .colab-df-convert {\n",
              "      background-color: #E8F0FE;\n",
              "      border: none;\n",
              "      border-radius: 50%;\n",
              "      cursor: pointer;\n",
              "      display: none;\n",
              "      fill: #1967D2;\n",
              "      height: 32px;\n",
              "      padding: 0 0 0 0;\n",
              "      width: 32px;\n",
              "    }\n",
              "\n",
              "    .colab-df-convert:hover {\n",
              "      background-color: #E2EBFA;\n",
              "      box-shadow: 0px 1px 2px rgba(60, 64, 67, 0.3), 0px 1px 3px 1px rgba(60, 64, 67, 0.15);\n",
              "      fill: #174EA6;\n",
              "    }\n",
              "\n",
              "    .colab-df-buttons div {\n",
              "      margin-bottom: 4px;\n",
              "    }\n",
              "\n",
              "    [theme=dark] .colab-df-convert {\n",
              "      background-color: #3B4455;\n",
              "      fill: #D2E3FC;\n",
              "    }\n",
              "\n",
              "    [theme=dark] .colab-df-convert:hover {\n",
              "      background-color: #434B5C;\n",
              "      box-shadow: 0px 1px 3px 1px rgba(0, 0, 0, 0.15);\n",
              "      filter: drop-shadow(0px 1px 2px rgba(0, 0, 0, 0.3));\n",
              "      fill: #FFFFFF;\n",
              "    }\n",
              "  </style>\n",
              "\n",
              "    <script>\n",
              "      const buttonEl =\n",
              "        document.querySelector('#df-6deef90f-124b-4315-82d7-638b87ab1986 button.colab-df-convert');\n",
              "      buttonEl.style.display =\n",
              "        google.colab.kernel.accessAllowed ? 'block' : 'none';\n",
              "\n",
              "      async function convertToInteractive(key) {\n",
              "        const element = document.querySelector('#df-6deef90f-124b-4315-82d7-638b87ab1986');\n",
              "        const dataTable =\n",
              "          await google.colab.kernel.invokeFunction('convertToInteractive',\n",
              "                                                    [key], {});\n",
              "        if (!dataTable) return;\n",
              "\n",
              "        const docLinkHtml = 'Like what you see? Visit the ' +\n",
              "          '<a target=\"_blank\" href=https://colab.research.google.com/notebooks/data_table.ipynb>data table notebook</a>'\n",
              "          + ' to learn more about interactive tables.';\n",
              "        element.innerHTML = '';\n",
              "        dataTable['output_type'] = 'display_data';\n",
              "        await google.colab.output.renderOutput(dataTable, element);\n",
              "        const docLink = document.createElement('div');\n",
              "        docLink.innerHTML = docLinkHtml;\n",
              "        element.appendChild(docLink);\n",
              "      }\n",
              "    </script>\n",
              "  </div>\n",
              "\n",
              "\n",
              "<div id=\"df-000b90de-7c0f-4c0e-9ed2-6ea912f6458c\">\n",
              "  <button class=\"colab-df-quickchart\" onclick=\"quickchart('df-000b90de-7c0f-4c0e-9ed2-6ea912f6458c')\"\n",
              "            title=\"Suggest charts\"\n",
              "            style=\"display:none;\">\n",
              "\n",
              "<svg xmlns=\"http://www.w3.org/2000/svg\" height=\"24px\"viewBox=\"0 0 24 24\"\n",
              "     width=\"24px\">\n",
              "    <g>\n",
              "        <path d=\"M19 3H5c-1.1 0-2 .9-2 2v14c0 1.1.9 2 2 2h14c1.1 0 2-.9 2-2V5c0-1.1-.9-2-2-2zM9 17H7v-7h2v7zm4 0h-2V7h2v10zm4 0h-2v-4h2v4z\"/>\n",
              "    </g>\n",
              "</svg>\n",
              "  </button>\n",
              "\n",
              "<style>\n",
              "  .colab-df-quickchart {\n",
              "      --bg-color: #E8F0FE;\n",
              "      --fill-color: #1967D2;\n",
              "      --hover-bg-color: #E2EBFA;\n",
              "      --hover-fill-color: #174EA6;\n",
              "      --disabled-fill-color: #AAA;\n",
              "      --disabled-bg-color: #DDD;\n",
              "  }\n",
              "\n",
              "  [theme=dark] .colab-df-quickchart {\n",
              "      --bg-color: #3B4455;\n",
              "      --fill-color: #D2E3FC;\n",
              "      --hover-bg-color: #434B5C;\n",
              "      --hover-fill-color: #FFFFFF;\n",
              "      --disabled-bg-color: #3B4455;\n",
              "      --disabled-fill-color: #666;\n",
              "  }\n",
              "\n",
              "  .colab-df-quickchart {\n",
              "    background-color: var(--bg-color);\n",
              "    border: none;\n",
              "    border-radius: 50%;\n",
              "    cursor: pointer;\n",
              "    display: none;\n",
              "    fill: var(--fill-color);\n",
              "    height: 32px;\n",
              "    padding: 0;\n",
              "    width: 32px;\n",
              "  }\n",
              "\n",
              "  .colab-df-quickchart:hover {\n",
              "    background-color: var(--hover-bg-color);\n",
              "    box-shadow: 0 1px 2px rgba(60, 64, 67, 0.3), 0 1px 3px 1px rgba(60, 64, 67, 0.15);\n",
              "    fill: var(--button-hover-fill-color);\n",
              "  }\n",
              "\n",
              "  .colab-df-quickchart-complete:disabled,\n",
              "  .colab-df-quickchart-complete:disabled:hover {\n",
              "    background-color: var(--disabled-bg-color);\n",
              "    fill: var(--disabled-fill-color);\n",
              "    box-shadow: none;\n",
              "  }\n",
              "\n",
              "  .colab-df-spinner {\n",
              "    border: 2px solid var(--fill-color);\n",
              "    border-color: transparent;\n",
              "    border-bottom-color: var(--fill-color);\n",
              "    animation:\n",
              "      spin 1s steps(1) infinite;\n",
              "  }\n",
              "\n",
              "  @keyframes spin {\n",
              "    0% {\n",
              "      border-color: transparent;\n",
              "      border-bottom-color: var(--fill-color);\n",
              "      border-left-color: var(--fill-color);\n",
              "    }\n",
              "    20% {\n",
              "      border-color: transparent;\n",
              "      border-left-color: var(--fill-color);\n",
              "      border-top-color: var(--fill-color);\n",
              "    }\n",
              "    30% {\n",
              "      border-color: transparent;\n",
              "      border-left-color: var(--fill-color);\n",
              "      border-top-color: var(--fill-color);\n",
              "      border-right-color: var(--fill-color);\n",
              "    }\n",
              "    40% {\n",
              "      border-color: transparent;\n",
              "      border-right-color: var(--fill-color);\n",
              "      border-top-color: var(--fill-color);\n",
              "    }\n",
              "    60% {\n",
              "      border-color: transparent;\n",
              "      border-right-color: var(--fill-color);\n",
              "    }\n",
              "    80% {\n",
              "      border-color: transparent;\n",
              "      border-right-color: var(--fill-color);\n",
              "      border-bottom-color: var(--fill-color);\n",
              "    }\n",
              "    90% {\n",
              "      border-color: transparent;\n",
              "      border-bottom-color: var(--fill-color);\n",
              "    }\n",
              "  }\n",
              "</style>\n",
              "\n",
              "  <script>\n",
              "    async function quickchart(key) {\n",
              "      const quickchartButtonEl =\n",
              "        document.querySelector('#' + key + ' button');\n",
              "      quickchartButtonEl.disabled = true;  // To prevent multiple clicks.\n",
              "      quickchartButtonEl.classList.add('colab-df-spinner');\n",
              "      try {\n",
              "        const charts = await google.colab.kernel.invokeFunction(\n",
              "            'suggestCharts', [key], {});\n",
              "      } catch (error) {\n",
              "        console.error('Error during call to suggestCharts:', error);\n",
              "      }\n",
              "      quickchartButtonEl.classList.remove('colab-df-spinner');\n",
              "      quickchartButtonEl.classList.add('colab-df-quickchart-complete');\n",
              "    }\n",
              "    (() => {\n",
              "      let quickchartButtonEl =\n",
              "        document.querySelector('#df-000b90de-7c0f-4c0e-9ed2-6ea912f6458c button');\n",
              "      quickchartButtonEl.style.display =\n",
              "        google.colab.kernel.accessAllowed ? 'block' : 'none';\n",
              "    })();\n",
              "  </script>\n",
              "</div>\n",
              "    </div>\n",
              "  </div>\n"
            ],
            "application/vnd.google.colaboratory.intrinsic+json": {
              "type": "dataframe",
              "variable_name": "df",
              "summary": "{\n  \"name\": \"df\",\n  \"rows\": 23700,\n  \"fields\": [\n    {\n      \"column\": \"text\",\n      \"properties\": {\n        \"dtype\": \"string\",\n        \"samples\": [\n          \"i want to see my recent transaction\",\n          \"i want to know how long it is from here to the sky harbor airport\",\n          \"that\\u2019s actually wrong\"\n        ],\n        \"num_unique_values\": 23695,\n        \"semantic_type\": \"\",\n        \"description\": \"\"\n      }\n    },\n    {\n      \"column\": \"label\",\n      \"properties\": {\n        \"dtype\": \"category\",\n        \"samples\": [\n          \"w2\",\n          \"change_user_name\",\n          \"do_you_have_pets\"\n        ],\n        \"num_unique_values\": 151,\n        \"semantic_type\": \"\",\n        \"description\": \"\"\n      }\n    },\n    {\n      \"column\": \"idx\",\n      \"properties\": {\n        \"dtype\": \"number\",\n        \"std\": 6841,\n        \"min\": 0,\n        \"max\": 23699,\n        \"samples\": [\n          7944,\n          7539,\n          9889\n        ],\n        \"num_unique_values\": 23700,\n        \"semantic_type\": \"\",\n        \"description\": \"\"\n      }\n    }\n  ]\n}"
            }
          },
          "metadata": {},
          "execution_count": 6
        }
      ]
    },
    {
      "cell_type": "markdown",
      "source": [
        "### Convert dataframe to dictionary"
      ],
      "metadata": {
        "id": "9hpWyngY2ywY"
      }
    },
    {
      "cell_type": "code",
      "source": [
        "documents=df.to_dict(orient='records')\n",
        "documents[:5]"
      ],
      "metadata": {
        "colab": {
          "base_uri": "https://localhost:8080/"
        },
        "id": "MuUrLLlh21ci",
        "outputId": "31d827c9-659d-4a6e-e3d1-2ad6ed57c211"
      },
      "execution_count": 7,
      "outputs": [
        {
          "output_type": "execute_result",
          "data": {
            "text/plain": [
              "[{'text': 'how would you say fly in italian', 'label': 'translate', 'idx': 0},\n",
              " {'text': \"what's the spanish word for pasta\", 'label': 'translate', 'idx': 1},\n",
              " {'text': 'how would they say butter in zambia',\n",
              "  'label': 'translate',\n",
              "  'idx': 2},\n",
              " {'text': 'how do you say fast in spanish', 'label': 'translate', 'idx': 3},\n",
              " {'text': \"what's the word for trees in norway\",\n",
              "  'label': 'translate',\n",
              "  'idx': 4}]"
            ]
          },
          "metadata": {},
          "execution_count": 7
        }
      ]
    },
    {
      "cell_type": "markdown",
      "source": [
        "### Importing lunr"
      ],
      "metadata": {
        "id": "sPC4Ac633DKM"
      }
    },
    {
      "cell_type": "code",
      "source": [
        "!pip install lunr"
      ],
      "metadata": {
        "colab": {
          "base_uri": "https://localhost:8080/"
        },
        "id": "hSkqhauD3FjP",
        "outputId": "338cb9fb-5b37-460e-aac0-46178fc159ad"
      },
      "execution_count": 8,
      "outputs": [
        {
          "output_type": "stream",
          "name": "stdout",
          "text": [
            "Requirement already satisfied: lunr in /usr/local/lib/python3.10/dist-packages (0.7.0.post1)\n"
          ]
        }
      ]
    },
    {
      "cell_type": "code",
      "source": [
        "from lunr import lunr\n",
        "\n",
        "index=lunr(ref='idx', fields=('text',),documents=documents)"
      ],
      "metadata": {
        "id": "k8wk8Njs3QRF"
      },
      "execution_count": 9,
      "outputs": []
    },
    {
      "cell_type": "code",
      "source": [
        "index.search(\"spanish\")"
      ],
      "metadata": {
        "colab": {
          "base_uri": "https://localhost:8080/"
        },
        "id": "BDmpAeKP3jjL",
        "outputId": "91fb0f73-6b81-40c2-b3a6-ec6721fc8b4e"
      },
      "execution_count": 10,
      "outputs": [
        {
          "output_type": "execute_result",
          "data": {
            "text/plain": [
              "[{'ref': '4501', 'score': 7.801, 'match_data': <MatchData \"spanish\">},\n",
              " {'ref': '3', 'score': 7.62, 'match_data': <MatchData \"spanish\">},\n",
              " {'ref': '26', 'score': 7.62, 'match_data': <MatchData \"spanish\">},\n",
              " {'ref': '27', 'score': 7.62, 'match_data': <MatchData \"spanish\">},\n",
              " {'ref': '28', 'score': 7.62, 'match_data': <MatchData \"spanish\">},\n",
              " {'ref': '4526', 'score': 7.62, 'match_data': <MatchData \"spanish\">},\n",
              " {'ref': '4529', 'score': 7.62, 'match_data': <MatchData \"spanish\">},\n",
              " {'ref': '4556', 'score': 7.62, 'match_data': <MatchData \"spanish\">},\n",
              " {'ref': '4573', 'score': 7.62, 'match_data': <MatchData \"spanish\">},\n",
              " {'ref': '4575', 'score': 7.62, 'match_data': <MatchData \"spanish\">},\n",
              " {'ref': '4576', 'score': 7.62, 'match_data': <MatchData \"spanish\">},\n",
              " {'ref': '4585', 'score': 7.62, 'match_data': <MatchData \"spanish\">},\n",
              " {'ref': '5638', 'score': 7.62, 'match_data': <MatchData \"spanish\">},\n",
              " {'ref': '19505', 'score': 7.62, 'match_data': <MatchData \"spanish\">},\n",
              " {'ref': '19507', 'score': 7.62, 'match_data': <MatchData \"spanish\">},\n",
              " {'ref': '25', 'score': 6.767, 'match_data': <MatchData \"spanish\">},\n",
              " {'ref': '334', 'score': 6.767, 'match_data': <MatchData \"spanish\">},\n",
              " {'ref': '342', 'score': 6.767, 'match_data': <MatchData \"spanish\">},\n",
              " {'ref': '348', 'score': 6.767, 'match_data': <MatchData \"spanish\">},\n",
              " {'ref': '350', 'score': 6.767, 'match_data': <MatchData \"spanish\">},\n",
              " {'ref': '4546', 'score': 6.767, 'match_data': <MatchData \"spanish\">},\n",
              " {'ref': '4550', 'score': 6.767, 'match_data': <MatchData \"spanish\">},\n",
              " {'ref': '4559', 'score': 6.767, 'match_data': <MatchData \"spanish\">},\n",
              " {'ref': '4574', 'score': 6.767, 'match_data': <MatchData \"spanish\">},\n",
              " {'ref': '4577', 'score': 6.767, 'match_data': <MatchData \"spanish\">},\n",
              " {'ref': '4579', 'score': 6.767, 'match_data': <MatchData \"spanish\">},\n",
              " {'ref': '4595', 'score': 6.767, 'match_data': <MatchData \"spanish\">},\n",
              " {'ref': '4598', 'score': 6.767, 'match_data': <MatchData \"spanish\">},\n",
              " {'ref': '5619', 'score': 6.767, 'match_data': <MatchData \"spanish\">},\n",
              " {'ref': '5627', 'score': 6.767, 'match_data': <MatchData \"spanish\">},\n",
              " {'ref': '5639', 'score': 6.767, 'match_data': <MatchData \"spanish\">},\n",
              " {'ref': '5640', 'score': 6.767, 'match_data': <MatchData \"spanish\">},\n",
              " {'ref': '5644', 'score': 6.767, 'match_data': <MatchData \"spanish\">},\n",
              " {'ref': '5654', 'score': 6.767, 'match_data': <MatchData \"spanish\">},\n",
              " {'ref': '5672', 'score': 6.767, 'match_data': <MatchData \"spanish\">},\n",
              " {'ref': '19500', 'score': 6.767, 'match_data': <MatchData \"spanish\">},\n",
              " {'ref': '1', 'score': 6.085, 'match_data': <MatchData \"spanish\">},\n",
              " {'ref': '12', 'score': 6.085, 'match_data': <MatchData \"spanish\">},\n",
              " {'ref': '29', 'score': 6.085, 'match_data': <MatchData \"spanish\">},\n",
              " {'ref': '343', 'score': 6.085, 'match_data': <MatchData \"spanish\">},\n",
              " {'ref': '4510', 'score': 6.085, 'match_data': <MatchData \"spanish\">},\n",
              " {'ref': '4527', 'score': 6.085, 'match_data': <MatchData \"spanish\">},\n",
              " {'ref': '4543', 'score': 6.085, 'match_data': <MatchData \"spanish\">},\n",
              " {'ref': '4592', 'score': 6.085, 'match_data': <MatchData \"spanish\">},\n",
              " {'ref': '5604', 'score': 6.085, 'match_data': <MatchData \"spanish\">},\n",
              " {'ref': '5618', 'score': 6.085, 'match_data': <MatchData \"spanish\">},\n",
              " {'ref': '5621', 'score': 6.085, 'match_data': <MatchData \"spanish\">},\n",
              " {'ref': '5625', 'score': 6.085, 'match_data': <MatchData \"spanish\">},\n",
              " {'ref': '5647', 'score': 6.085, 'match_data': <MatchData \"spanish\">},\n",
              " {'ref': '5664', 'score': 6.085, 'match_data': <MatchData \"spanish\">},\n",
              " {'ref': '18182', 'score': 6.085, 'match_data': <MatchData \"spanish\">},\n",
              " {'ref': '19517', 'score': 6.085, 'match_data': <MatchData \"spanish\">},\n",
              " {'ref': '19727', 'score': 6.085, 'match_data': <MatchData \"spanish\">},\n",
              " {'ref': '5611', 'score': 5.528, 'match_data': <MatchData \"spanish\">},\n",
              " {'ref': '5692', 'score': 5.528, 'match_data': <MatchData \"spanish\">},\n",
              " {'ref': '5697', 'score': 5.528, 'match_data': <MatchData \"spanish\">},\n",
              " {'ref': '19726', 'score': 5.065, 'match_data': <MatchData \"spanish\">}]"
            ]
          },
          "metadata": {},
          "execution_count": 10
        }
      ]
    },
    {
      "cell_type": "markdown",
      "source": [
        "Using lunr and the object 'index', we can search for documents"
      ],
      "metadata": {
        "id": "uovK1jKRsGKs"
      }
    },
    {
      "cell_type": "code",
      "source": [
        "[documents[int(i['ref'])] for i in index.search('spanish')]"
      ],
      "metadata": {
        "colab": {
          "base_uri": "https://localhost:8080/"
        },
        "id": "JS5iWUy43t-V",
        "outputId": "44612c48-0769-4762-8593-b313d5b8d712"
      },
      "execution_count": 11,
      "outputs": [
        {
          "output_type": "execute_result",
          "data": {
            "text/plain": [
              "[{'text': \"can you tell me how to say 'i do not speak much spanish', in spanish\",\n",
              "  'label': 'translate',\n",
              "  'idx': 4501},\n",
              " {'text': 'how do you say fast in spanish', 'label': 'translate', 'idx': 3},\n",
              " {'text': 'what is dog in spanish', 'label': 'translate', 'idx': 26},\n",
              " {'text': 'how do you say dog in spanish', 'label': 'translate', 'idx': 27},\n",
              " {'text': 'dog in spanish', 'label': 'translate', 'idx': 28},\n",
              " {'text': 'how can i say not now in spanish',\n",
              "  'label': 'translate',\n",
              "  'idx': 4526},\n",
              " {'text': 'how do you say goodbye in spanish',\n",
              "  'label': 'translate',\n",
              "  'idx': 4529},\n",
              " {'text': 'what is spanish for hello', 'label': 'translate', 'idx': 4556},\n",
              " {'text': 'how do you say thank you in spanish',\n",
              "  'label': 'translate',\n",
              "  'idx': 4573},\n",
              " {'text': 'how can i say thank you in spanish',\n",
              "  'label': 'translate',\n",
              "  'idx': 4575},\n",
              " {'text': 'what is thank you in spanish', 'label': 'translate', 'idx': 4576},\n",
              " {'text': 'how do you say cat in spanish', 'label': 'translate', 'idx': 4585},\n",
              " {'text': 'can you talk in spanish', 'label': 'change_language', 'idx': 5638},\n",
              " {'text': 'how do i say dinner in spanish',\n",
              "  'label': 'translate',\n",
              "  'idx': 19505},\n",
              " {'text': 'how do i say thank you in spanish',\n",
              "  'label': 'translate',\n",
              "  'idx': 19507},\n",
              " {'text': 'english to spanish for dog', 'label': 'translate', 'idx': 25},\n",
              " {'text': 'speak spanish please', 'label': 'change_language', 'idx': 334},\n",
              " {'text': 'i want to use spanish with you',\n",
              "  'label': 'change_language',\n",
              "  'idx': 342},\n",
              " {'text': \"i'd like the language to be in spanish\",\n",
              "  'label': 'change_language',\n",
              "  'idx': 348},\n",
              " {'text': 'can i speak spanish to you hombre',\n",
              "  'label': 'change_language',\n",
              "  'idx': 350},\n",
              " {'text': 'what is the word for hello spanish',\n",
              "  'label': 'translate',\n",
              "  'idx': 4546},\n",
              " {'text': 'tell me how to say hello in spanish',\n",
              "  'label': 'translate',\n",
              "  'idx': 4550},\n",
              " {'text': 'what is spanish for good morning',\n",
              "  'label': 'translate',\n",
              "  'idx': 4559},\n",
              " {'text': 'how does one say thank you in spanish',\n",
              "  'label': 'translate',\n",
              "  'idx': 4574},\n",
              " {'text': 'what is the way to say thank you in spanish',\n",
              "  'label': 'translate',\n",
              "  'idx': 4577},\n",
              " {'text': 'how do they say \"where\\'s the bathroom\" in spanish',\n",
              "  'label': 'translate',\n",
              "  'idx': 4579},\n",
              " {'text': 'can you translate hi into spanish for me',\n",
              "  'label': 'translate',\n",
              "  'idx': 4595},\n",
              " {'text': 'can you translate milk into spanish for me',\n",
              "  'label': 'translate',\n",
              "  'idx': 4598},\n",
              " {'text': 'fix my language to spanish',\n",
              "  'label': 'change_language',\n",
              "  'idx': 5619},\n",
              " {'text': 'please respond to me in spanish',\n",
              "  'label': 'change_language',\n",
              "  'idx': 5627},\n",
              " {'text': 'can i start talking to you in spanish',\n",
              "  'label': 'change_language',\n",
              "  'idx': 5639},\n",
              " {'text': 'please talk to me in spanish',\n",
              "  'label': 'change_language',\n",
              "  'idx': 5640},\n",
              " {'text': 'talk to me in spanish from now on',\n",
              "  'label': 'change_language',\n",
              "  'idx': 5644},\n",
              " {'text': 'is it possible to only talk in spanish',\n",
              "  'label': 'change_language',\n",
              "  'idx': 5654},\n",
              " {'text': 'start talking in spanish', 'label': 'change_language', 'idx': 5672},\n",
              " {'text': 'in spanish, meet me tomorrow is said how',\n",
              "  'label': 'translate',\n",
              "  'idx': 19500},\n",
              " {'text': \"what's the spanish word for pasta\", 'label': 'translate', 'idx': 1},\n",
              " {'text': 'what is the right way to say excuse me in spanish',\n",
              "  'label': 'translate',\n",
              "  'idx': 12},\n",
              " {'text': \"what's the spanish word for dog\", 'label': 'translate', 'idx': 29},\n",
              " {'text': \"please let's speak in spanish\",\n",
              "  'label': 'change_language',\n",
              "  'idx': 343},\n",
              " {'text': \"how would i say, 'i don't know the answer' in spanish\",\n",
              "  'label': 'translate',\n",
              "  'idx': 4510},\n",
              " {'text': 'what do spanish people say for the word cow',\n",
              "  'label': 'translate',\n",
              "  'idx': 4527},\n",
              " {'text': 'what spanish word means hello', 'label': 'translate', 'idx': 4543},\n",
              " {'text': 'i wanna know a phrase in spanish',\n",
              "  'label': 'translate',\n",
              "  'idx': 4592},\n",
              " {'text': 'i would like to have language set to spanish, please',\n",
              "  'label': 'change_language',\n",
              "  'idx': 5604},\n",
              " {'text': 'i need to change language to spanish',\n",
              "  'label': 'change_language',\n",
              "  'idx': 5618},\n",
              " {'text': 'i need to change my speaking to spanish',\n",
              "  'label': 'change_language',\n",
              "  'idx': 5621},\n",
              " {'text': 'change your language to spanish please',\n",
              "  'label': 'change_language',\n",
              "  'idx': 5625},\n",
              " {'text': 'i want to use spanish as my language',\n",
              "  'label': 'change_language',\n",
              "  'idx': 5647},\n",
              " {'text': 'let’s chat using spanish', 'label': 'change_language', 'idx': 5664},\n",
              " {'text': 'add mia to my spanish playlist',\n",
              "  'label': 'update_playlist',\n",
              "  'idx': 18182},\n",
              " {'text': 'can you translate this name into spanish for me, please',\n",
              "  'label': 'translate',\n",
              "  'idx': 19517},\n",
              " {'text': 'change your language setting to spanish',\n",
              "  'label': 'change_language',\n",
              "  'idx': 19727},\n",
              " {'text': 'i want us to speak to each other in spanish from now on',\n",
              "  'label': 'change_language',\n",
              "  'idx': 5611},\n",
              " {'text': 'can you start talking to me in spanish from here on out',\n",
              "  'label': 'change_language',\n",
              "  'idx': 5692},\n",
              " {'text': 'please change your language setting to spanish',\n",
              "  'label': 'change_language',\n",
              "  'idx': 5697},\n",
              " {'text': 'please change your language setting to spanish now',\n",
              "  'label': 'change_language',\n",
              "  'idx': 19726}]"
            ]
          },
          "metadata": {},
          "execution_count": 11
        }
      ]
    },
    {
      "cell_type": "markdown",
      "source": [
        "Similarly, the above code retrieves documents from the documents list that match the search term \"spanish\" based on the search results obtained from the Lunr index."
      ],
      "metadata": {
        "id": "G1wKTickx1Cx"
      }
    },
    {
      "cell_type": "code",
      "source": [
        "import json\n",
        "from lunr.index import Index\n",
        "\n",
        "#Serialize the Lunr index object (index) into a JSON-compatible Python object.\n",
        "serialized=index.serialize()\n",
        "\n",
        "#Write the serialized Lunr index (serialized) to a JSON file named 'idx.json'.\n",
        "with open('idx.json', 'w') as fd:\n",
        "  json.dump(serialized, fd)\n",
        "\n",
        "#Read the contents of the JSON file 'idx.json' and deserializes it back into a Python object\n",
        "with open('idx.json') as fd:\n",
        "  reloaded=json.loads(fd.read())\n",
        "\n",
        "#Load the deserialized Lunr index (reloaded) into a new Lunr index object (idx).\n",
        "idx=Index.load(reloaded)\n",
        "\n",
        "#Perform a search operation on the reloaded Lunr index (idx) for the term 'spanish'.\n",
        "idx.search('spanish')"
      ],
      "metadata": {
        "colab": {
          "base_uri": "https://localhost:8080/"
        },
        "id": "-xwZ1OW-348t",
        "outputId": "a5e803d9-a35c-4fb6-ce84-c4455a427c76"
      },
      "execution_count": 14,
      "outputs": [
        {
          "output_type": "execute_result",
          "data": {
            "text/plain": [
              "[{'ref': '4501', 'score': 7.801, 'match_data': <MatchData \"spanish\">},\n",
              " {'ref': '3', 'score': 7.62, 'match_data': <MatchData \"spanish\">},\n",
              " {'ref': '26', 'score': 7.62, 'match_data': <MatchData \"spanish\">},\n",
              " {'ref': '27', 'score': 7.62, 'match_data': <MatchData \"spanish\">},\n",
              " {'ref': '28', 'score': 7.62, 'match_data': <MatchData \"spanish\">},\n",
              " {'ref': '4526', 'score': 7.62, 'match_data': <MatchData \"spanish\">},\n",
              " {'ref': '4529', 'score': 7.62, 'match_data': <MatchData \"spanish\">},\n",
              " {'ref': '4556', 'score': 7.62, 'match_data': <MatchData \"spanish\">},\n",
              " {'ref': '4573', 'score': 7.62, 'match_data': <MatchData \"spanish\">},\n",
              " {'ref': '4575', 'score': 7.62, 'match_data': <MatchData \"spanish\">},\n",
              " {'ref': '4576', 'score': 7.62, 'match_data': <MatchData \"spanish\">},\n",
              " {'ref': '4585', 'score': 7.62, 'match_data': <MatchData \"spanish\">},\n",
              " {'ref': '5638', 'score': 7.62, 'match_data': <MatchData \"spanish\">},\n",
              " {'ref': '19505', 'score': 7.62, 'match_data': <MatchData \"spanish\">},\n",
              " {'ref': '19507', 'score': 7.62, 'match_data': <MatchData \"spanish\">},\n",
              " {'ref': '25', 'score': 6.767, 'match_data': <MatchData \"spanish\">},\n",
              " {'ref': '334', 'score': 6.767, 'match_data': <MatchData \"spanish\">},\n",
              " {'ref': '342', 'score': 6.767, 'match_data': <MatchData \"spanish\">},\n",
              " {'ref': '348', 'score': 6.767, 'match_data': <MatchData \"spanish\">},\n",
              " {'ref': '350', 'score': 6.767, 'match_data': <MatchData \"spanish\">},\n",
              " {'ref': '4546', 'score': 6.767, 'match_data': <MatchData \"spanish\">},\n",
              " {'ref': '4550', 'score': 6.767, 'match_data': <MatchData \"spanish\">},\n",
              " {'ref': '4559', 'score': 6.767, 'match_data': <MatchData \"spanish\">},\n",
              " {'ref': '4574', 'score': 6.767, 'match_data': <MatchData \"spanish\">},\n",
              " {'ref': '4577', 'score': 6.767, 'match_data': <MatchData \"spanish\">},\n",
              " {'ref': '4579', 'score': 6.767, 'match_data': <MatchData \"spanish\">},\n",
              " {'ref': '4595', 'score': 6.767, 'match_data': <MatchData \"spanish\">},\n",
              " {'ref': '4598', 'score': 6.767, 'match_data': <MatchData \"spanish\">},\n",
              " {'ref': '5619', 'score': 6.767, 'match_data': <MatchData \"spanish\">},\n",
              " {'ref': '5627', 'score': 6.767, 'match_data': <MatchData \"spanish\">},\n",
              " {'ref': '5639', 'score': 6.767, 'match_data': <MatchData \"spanish\">},\n",
              " {'ref': '5640', 'score': 6.767, 'match_data': <MatchData \"spanish\">},\n",
              " {'ref': '5644', 'score': 6.767, 'match_data': <MatchData \"spanish\">},\n",
              " {'ref': '5654', 'score': 6.767, 'match_data': <MatchData \"spanish\">},\n",
              " {'ref': '5672', 'score': 6.767, 'match_data': <MatchData \"spanish\">},\n",
              " {'ref': '19500', 'score': 6.767, 'match_data': <MatchData \"spanish\">},\n",
              " {'ref': '1', 'score': 6.085, 'match_data': <MatchData \"spanish\">},\n",
              " {'ref': '12', 'score': 6.085, 'match_data': <MatchData \"spanish\">},\n",
              " {'ref': '29', 'score': 6.085, 'match_data': <MatchData \"spanish\">},\n",
              " {'ref': '343', 'score': 6.085, 'match_data': <MatchData \"spanish\">},\n",
              " {'ref': '4510', 'score': 6.085, 'match_data': <MatchData \"spanish\">},\n",
              " {'ref': '4527', 'score': 6.085, 'match_data': <MatchData \"spanish\">},\n",
              " {'ref': '4543', 'score': 6.085, 'match_data': <MatchData \"spanish\">},\n",
              " {'ref': '4592', 'score': 6.085, 'match_data': <MatchData \"spanish\">},\n",
              " {'ref': '5604', 'score': 6.085, 'match_data': <MatchData \"spanish\">},\n",
              " {'ref': '5618', 'score': 6.085, 'match_data': <MatchData \"spanish\">},\n",
              " {'ref': '5621', 'score': 6.085, 'match_data': <MatchData \"spanish\">},\n",
              " {'ref': '5625', 'score': 6.085, 'match_data': <MatchData \"spanish\">},\n",
              " {'ref': '5647', 'score': 6.085, 'match_data': <MatchData \"spanish\">},\n",
              " {'ref': '5664', 'score': 6.085, 'match_data': <MatchData \"spanish\">},\n",
              " {'ref': '18182', 'score': 6.085, 'match_data': <MatchData \"spanish\">},\n",
              " {'ref': '19517', 'score': 6.085, 'match_data': <MatchData \"spanish\">},\n",
              " {'ref': '19727', 'score': 6.085, 'match_data': <MatchData \"spanish\">},\n",
              " {'ref': '5611', 'score': 5.528, 'match_data': <MatchData \"spanish\">},\n",
              " {'ref': '5692', 'score': 5.528, 'match_data': <MatchData \"spanish\">},\n",
              " {'ref': '5697', 'score': 5.528, 'match_data': <MatchData \"spanish\">},\n",
              " {'ref': '19726', 'score': 5.065, 'match_data': <MatchData \"spanish\">}]"
            ]
          },
          "metadata": {},
          "execution_count": 14
        }
      ]
    },
    {
      "cell_type": "markdown",
      "source": [
        "The above method demonstrates how lunr can be used for efficient storage and retrieval of pre-indexed data for search functionality in applications."
      ],
      "metadata": {
        "id": "7gd6D54t0qZA"
      }
    },
    {
      "cell_type": "markdown",
      "source": [
        "### Comparing the time taken by each method to search"
      ],
      "metadata": {
        "id": "dqI1v6XZzANj"
      }
    },
    {
      "cell_type": "code",
      "source": [
        "%timeit df.loc[lambda d: d['text'].str.contains(\"spanish\")]"
      ],
      "metadata": {
        "colab": {
          "base_uri": "https://localhost:8080/"
        },
        "id": "B8MLepy7fqv-",
        "outputId": "58a545ae-dd99-4b9a-be75-e4f187d734e3"
      },
      "execution_count": 15,
      "outputs": [
        {
          "output_type": "stream",
          "name": "stdout",
          "text": [
            "11.8 ms ± 188 µs per loop (mean ± std. dev. of 7 runs, 100 loops each)\n"
          ]
        }
      ]
    },
    {
      "cell_type": "code",
      "source": [
        "%timeit [d for d in documents if 'spanish' in d['text']]"
      ],
      "metadata": {
        "colab": {
          "base_uri": "https://localhost:8080/"
        },
        "id": "hZICiyrJrLvt",
        "outputId": "cb53fc55-d3d8-417c-d1df-afae88fe21e3"
      },
      "execution_count": 16,
      "outputs": [
        {
          "output_type": "stream",
          "name": "stdout",
          "text": [
            "4.65 ms ± 389 µs per loop (mean ± std. dev. of 7 runs, 100 loops each)\n"
          ]
        }
      ]
    },
    {
      "cell_type": "code",
      "source": [
        "%timeit index.search('spanish')"
      ],
      "metadata": {
        "colab": {
          "base_uri": "https://localhost:8080/"
        },
        "id": "JYrrXM0urR5K",
        "outputId": "257b226e-45b2-491c-8c39-b93393d767c0"
      },
      "execution_count": 17,
      "outputs": [
        {
          "output_type": "stream",
          "name": "stdout",
          "text": [
            "648 µs ± 7.53 µs per loop (mean ± std. dev. of 7 runs, 1000 loops each)\n"
          ]
        }
      ]
    },
    {
      "cell_type": "code",
      "source": [
        "%timeit [documents[int(i['ref'])] for i in index.search('spanish')]"
      ],
      "metadata": {
        "colab": {
          "base_uri": "https://localhost:8080/"
        },
        "id": "hD8l4L_8rXno",
        "outputId": "a9c824b1-7ee9-4fac-f296-f03d90733069"
      },
      "execution_count": 18,
      "outputs": [
        {
          "output_type": "stream",
          "name": "stdout",
          "text": [
            "790 µs ± 216 µs per loop (mean ± std. dev. of 7 runs, 1000 loops each)\n"
          ]
        }
      ]
    }
  ]
}